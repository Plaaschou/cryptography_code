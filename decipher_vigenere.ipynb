{
 "metadata": {
  "language_info": {
   "codemirror_mode": {
    "name": "ipython",
    "version": 3
   },
   "file_extension": ".py",
   "mimetype": "text/x-python",
   "name": "python",
   "nbconvert_exporter": "python",
   "pygments_lexer": "ipython3",
   "version": "3.9.2-final"
  },
  "orig_nbformat": 2,
  "kernelspec": {
   "name": "python39264bit841e06e8a6864e31b951e404464cc14a",
   "display_name": "Python 3.9.2 64-bit",
   "language": "python"
  }
 },
 "nbformat": 4,
 "nbformat_minor": 2,
 "cells": [
  {
   "cell_type": "code",
   "execution_count": 1,
   "metadata": {},
   "outputs": [],
   "source": [
    "import pandas as pd\n",
    "import numpy as np\n",
    "import plotly.graph_objects as go"
   ]
  },
  {
   "cell_type": "code",
   "execution_count": 2,
   "metadata": {},
   "outputs": [
    {
     "output_type": "execute_result",
     "data": {
      "text/plain": [
       "   A  B   C  D   E   F   G   H   I   J  ...   Q   R   S  T   U   V   W  X  Y  \\\n",
       "0  8  5  12  4  15  10  27  16  13  14  ...  14  17  24  8  12  22  22  5  8   \n",
       "\n",
       "   Z  \n",
       "0  5  \n",
       "\n",
       "[1 rows x 26 columns]"
      ],
      "text/html": "<div>\n<style scoped>\n    .dataframe tbody tr th:only-of-type {\n        vertical-align: middle;\n    }\n\n    .dataframe tbody tr th {\n        vertical-align: top;\n    }\n\n    .dataframe thead th {\n        text-align: right;\n    }\n</style>\n<table border=\"1\" class=\"dataframe\">\n  <thead>\n    <tr style=\"text-align: right;\">\n      <th></th>\n      <th>A</th>\n      <th>B</th>\n      <th>C</th>\n      <th>D</th>\n      <th>E</th>\n      <th>F</th>\n      <th>G</th>\n      <th>H</th>\n      <th>I</th>\n      <th>J</th>\n      <th>...</th>\n      <th>Q</th>\n      <th>R</th>\n      <th>S</th>\n      <th>T</th>\n      <th>U</th>\n      <th>V</th>\n      <th>W</th>\n      <th>X</th>\n      <th>Y</th>\n      <th>Z</th>\n    </tr>\n  </thead>\n  <tbody>\n    <tr>\n      <th>0</th>\n      <td>8</td>\n      <td>5</td>\n      <td>12</td>\n      <td>4</td>\n      <td>15</td>\n      <td>10</td>\n      <td>27</td>\n      <td>16</td>\n      <td>13</td>\n      <td>14</td>\n      <td>...</td>\n      <td>14</td>\n      <td>17</td>\n      <td>24</td>\n      <td>8</td>\n      <td>12</td>\n      <td>22</td>\n      <td>22</td>\n      <td>5</td>\n      <td>8</td>\n      <td>5</td>\n    </tr>\n  </tbody>\n</table>\n<p>1 rows × 26 columns</p>\n</div>"
     },
     "metadata": {},
     "execution_count": 2
    }
   ],
   "source": [
    "# encrypted key\n",
    "c = np.array(list(\"\"\"VVHQWVVRHMUSGJGTHKIHTSSEJCHLSFCBGVWCRLRYQTFSVGAHWKCUHWAUGLQHNSLRLJSHBLTSPISPRDXLJSVEEGHLQWKASSKUWEPWQTWVSPGOELKCQYFNSVWLJSNIQKGNRGYBWLWGOVIOKHKAZKQKXZGYHCECMEIUJOQKWFWVEFQHKIJRCLRLKBIENQFRJLJSDHGRHLSFQTWLAUQRHWDMWLGUSGIKKFLRYVCWVSPGPMLKASSJVOQXEGGVEYGGZMLJCXXLJSVPAIVWIKVRDRYGFRJLJSLVEGGVEYGGEIAPUUISFPBTGNWWMUCZRVTWGLRWUGUMNCZVILE\"\"\"))\n",
    "alphabet = \"ABCDEFGHIJKLMNOPQRSTUVWXYZ\"\n",
    "\n",
    "def create_df_freq(c):\n",
    "    # returns the frequency of each letter in the crypted message\n",
    "    unique, count = np.unique(c, return_counts=True)\n",
    "    counts = dict(zip(unique, count))\n",
    "    for k in counts.keys():\n",
    "        counts[k] = [counts[k]]\n",
    "    return pd.DataFrame(data=counts)\n",
    "\n",
    "create_df_freq(c)"
   ]
  },
  {
   "cell_type": "code",
   "execution_count": 3,
   "metadata": {},
   "outputs": [],
   "source": [
    "def shift(c):\n",
    "    # returns a dataframe where the i-th line is shifted by i\n",
    "    df_shifted = pd.DataFrame(data=c).T\n",
    "    for shift in range(1, len(c)):\n",
    "        shifted_c = np.append(c[shift:], c[:shift])\n",
    "        df_append = pd.DataFrame(data=shifted_c).T\n",
    "        df_shifted = df_shifted.append(df_append, ignore_index=True)\n",
    "    return df_shifted\n",
    "df_shifted = shift(c)"
   ]
  },
  {
   "cell_type": "code",
   "execution_count": 4,
   "metadata": {},
   "outputs": [
    {
     "output_type": "execute_result",
     "data": {
      "text/plain": [
       "    0   1   2   3   4   5   6   7   8   9    ... 321 322 323 324 325 326 327  \\\n",
       "0     V   V   H   Q   W   V   V   R   H   M  ...   G   U   M   N   C   Z   V   \n",
       "1     V   H   Q   W   V   V   R   H   M   U  ...   U   M   N   C   Z   V   I   \n",
       "2     H   Q   W   V   V   R   H   M   U   S  ...   M   N   C   Z   V   I   L   \n",
       "3     Q   W   V   V   R   H   M   U   S   G  ...   N   C   Z   V   I   L   E   \n",
       "4     W   V   V   R   H   M   U   S   G   J  ...   C   Z   V   I   L   E   V   \n",
       "..   ..  ..  ..  ..  ..  ..  ..  ..  ..  ..  ...  ..  ..  ..  ..  ..  ..  ..   \n",
       "326   Z   V   I   L   E   V   V   H   Q   W  ...   G   L   R   W   U   G   U   \n",
       "327   V   I   L   E   V   V   H   Q   W   V  ...   L   R   W   U   G   U   M   \n",
       "328   I   L   E   V   V   H   Q   W   V   V  ...   R   W   U   G   U   M   N   \n",
       "329   L   E   V   V   H   Q   W   V   V   R  ...   W   U   G   U   M   N   C   \n",
       "330   E   V   V   H   Q   W   V   V   R   H  ...   U   G   U   M   N   C   Z   \n",
       "\n",
       "    328 329 330  \n",
       "0     I   L   E  \n",
       "1     L   E   V  \n",
       "2     E   V   V  \n",
       "3     V   V   H  \n",
       "4     V   H   Q  \n",
       "..   ..  ..  ..  \n",
       "326   M   N   C  \n",
       "327   N   C   Z  \n",
       "328   C   Z   V  \n",
       "329   Z   V   I  \n",
       "330   V   I   L  \n",
       "\n",
       "[331 rows x 331 columns]"
      ],
      "text/html": "<div>\n<style scoped>\n    .dataframe tbody tr th:only-of-type {\n        vertical-align: middle;\n    }\n\n    .dataframe tbody tr th {\n        vertical-align: top;\n    }\n\n    .dataframe thead th {\n        text-align: right;\n    }\n</style>\n<table border=\"1\" class=\"dataframe\">\n  <thead>\n    <tr style=\"text-align: right;\">\n      <th></th>\n      <th>0</th>\n      <th>1</th>\n      <th>2</th>\n      <th>3</th>\n      <th>4</th>\n      <th>5</th>\n      <th>6</th>\n      <th>7</th>\n      <th>8</th>\n      <th>9</th>\n      <th>...</th>\n      <th>321</th>\n      <th>322</th>\n      <th>323</th>\n      <th>324</th>\n      <th>325</th>\n      <th>326</th>\n      <th>327</th>\n      <th>328</th>\n      <th>329</th>\n      <th>330</th>\n    </tr>\n  </thead>\n  <tbody>\n    <tr>\n      <th>0</th>\n      <td>V</td>\n      <td>V</td>\n      <td>H</td>\n      <td>Q</td>\n      <td>W</td>\n      <td>V</td>\n      <td>V</td>\n      <td>R</td>\n      <td>H</td>\n      <td>M</td>\n      <td>...</td>\n      <td>G</td>\n      <td>U</td>\n      <td>M</td>\n      <td>N</td>\n      <td>C</td>\n      <td>Z</td>\n      <td>V</td>\n      <td>I</td>\n      <td>L</td>\n      <td>E</td>\n    </tr>\n    <tr>\n      <th>1</th>\n      <td>V</td>\n      <td>H</td>\n      <td>Q</td>\n      <td>W</td>\n      <td>V</td>\n      <td>V</td>\n      <td>R</td>\n      <td>H</td>\n      <td>M</td>\n      <td>U</td>\n      <td>...</td>\n      <td>U</td>\n      <td>M</td>\n      <td>N</td>\n      <td>C</td>\n      <td>Z</td>\n      <td>V</td>\n      <td>I</td>\n      <td>L</td>\n      <td>E</td>\n      <td>V</td>\n    </tr>\n    <tr>\n      <th>2</th>\n      <td>H</td>\n      <td>Q</td>\n      <td>W</td>\n      <td>V</td>\n      <td>V</td>\n      <td>R</td>\n      <td>H</td>\n      <td>M</td>\n      <td>U</td>\n      <td>S</td>\n      <td>...</td>\n      <td>M</td>\n      <td>N</td>\n      <td>C</td>\n      <td>Z</td>\n      <td>V</td>\n      <td>I</td>\n      <td>L</td>\n      <td>E</td>\n      <td>V</td>\n      <td>V</td>\n    </tr>\n    <tr>\n      <th>3</th>\n      <td>Q</td>\n      <td>W</td>\n      <td>V</td>\n      <td>V</td>\n      <td>R</td>\n      <td>H</td>\n      <td>M</td>\n      <td>U</td>\n      <td>S</td>\n      <td>G</td>\n      <td>...</td>\n      <td>N</td>\n      <td>C</td>\n      <td>Z</td>\n      <td>V</td>\n      <td>I</td>\n      <td>L</td>\n      <td>E</td>\n      <td>V</td>\n      <td>V</td>\n      <td>H</td>\n    </tr>\n    <tr>\n      <th>4</th>\n      <td>W</td>\n      <td>V</td>\n      <td>V</td>\n      <td>R</td>\n      <td>H</td>\n      <td>M</td>\n      <td>U</td>\n      <td>S</td>\n      <td>G</td>\n      <td>J</td>\n      <td>...</td>\n      <td>C</td>\n      <td>Z</td>\n      <td>V</td>\n      <td>I</td>\n      <td>L</td>\n      <td>E</td>\n      <td>V</td>\n      <td>V</td>\n      <td>H</td>\n      <td>Q</td>\n    </tr>\n    <tr>\n      <th>...</th>\n      <td>...</td>\n      <td>...</td>\n      <td>...</td>\n      <td>...</td>\n      <td>...</td>\n      <td>...</td>\n      <td>...</td>\n      <td>...</td>\n      <td>...</td>\n      <td>...</td>\n      <td>...</td>\n      <td>...</td>\n      <td>...</td>\n      <td>...</td>\n      <td>...</td>\n      <td>...</td>\n      <td>...</td>\n      <td>...</td>\n      <td>...</td>\n      <td>...</td>\n      <td>...</td>\n    </tr>\n    <tr>\n      <th>326</th>\n      <td>Z</td>\n      <td>V</td>\n      <td>I</td>\n      <td>L</td>\n      <td>E</td>\n      <td>V</td>\n      <td>V</td>\n      <td>H</td>\n      <td>Q</td>\n      <td>W</td>\n      <td>...</td>\n      <td>G</td>\n      <td>L</td>\n      <td>R</td>\n      <td>W</td>\n      <td>U</td>\n      <td>G</td>\n      <td>U</td>\n      <td>M</td>\n      <td>N</td>\n      <td>C</td>\n    </tr>\n    <tr>\n      <th>327</th>\n      <td>V</td>\n      <td>I</td>\n      <td>L</td>\n      <td>E</td>\n      <td>V</td>\n      <td>V</td>\n      <td>H</td>\n      <td>Q</td>\n      <td>W</td>\n      <td>V</td>\n      <td>...</td>\n      <td>L</td>\n      <td>R</td>\n      <td>W</td>\n      <td>U</td>\n      <td>G</td>\n      <td>U</td>\n      <td>M</td>\n      <td>N</td>\n      <td>C</td>\n      <td>Z</td>\n    </tr>\n    <tr>\n      <th>328</th>\n      <td>I</td>\n      <td>L</td>\n      <td>E</td>\n      <td>V</td>\n      <td>V</td>\n      <td>H</td>\n      <td>Q</td>\n      <td>W</td>\n      <td>V</td>\n      <td>V</td>\n      <td>...</td>\n      <td>R</td>\n      <td>W</td>\n      <td>U</td>\n      <td>G</td>\n      <td>U</td>\n      <td>M</td>\n      <td>N</td>\n      <td>C</td>\n      <td>Z</td>\n      <td>V</td>\n    </tr>\n    <tr>\n      <th>329</th>\n      <td>L</td>\n      <td>E</td>\n      <td>V</td>\n      <td>V</td>\n      <td>H</td>\n      <td>Q</td>\n      <td>W</td>\n      <td>V</td>\n      <td>V</td>\n      <td>R</td>\n      <td>...</td>\n      <td>W</td>\n      <td>U</td>\n      <td>G</td>\n      <td>U</td>\n      <td>M</td>\n      <td>N</td>\n      <td>C</td>\n      <td>Z</td>\n      <td>V</td>\n      <td>I</td>\n    </tr>\n    <tr>\n      <th>330</th>\n      <td>E</td>\n      <td>V</td>\n      <td>V</td>\n      <td>H</td>\n      <td>Q</td>\n      <td>W</td>\n      <td>V</td>\n      <td>V</td>\n      <td>R</td>\n      <td>H</td>\n      <td>...</td>\n      <td>U</td>\n      <td>G</td>\n      <td>U</td>\n      <td>M</td>\n      <td>N</td>\n      <td>C</td>\n      <td>Z</td>\n      <td>V</td>\n      <td>I</td>\n      <td>L</td>\n    </tr>\n  </tbody>\n</table>\n<p>331 rows × 331 columns</p>\n</div>"
     },
     "metadata": {},
     "execution_count": 4
    }
   ],
   "source": [
    "df_shifted"
   ]
  },
  {
   "cell_type": "code",
   "execution_count": 5,
   "metadata": {},
   "outputs": [
    {
     "output_type": "execute_result",
     "data": {
      "text/plain": [
       "   1    2    3    4    5    6    7    8    9    10   ...  321  322  323  324  \\\n",
       "0   14   14   16   15   25   12   13   13    8   15  ...   15    8   13   13   \n",
       "\n",
       "   325  326  327  328  329  330  \n",
       "0   12   25   15   16   14   14  \n",
       "\n",
       "[1 rows x 330 columns]"
      ],
      "text/html": "<div>\n<style scoped>\n    .dataframe tbody tr th:only-of-type {\n        vertical-align: middle;\n    }\n\n    .dataframe tbody tr th {\n        vertical-align: top;\n    }\n\n    .dataframe thead th {\n        text-align: right;\n    }\n</style>\n<table border=\"1\" class=\"dataframe\">\n  <thead>\n    <tr style=\"text-align: right;\">\n      <th></th>\n      <th>1</th>\n      <th>2</th>\n      <th>3</th>\n      <th>4</th>\n      <th>5</th>\n      <th>6</th>\n      <th>7</th>\n      <th>8</th>\n      <th>9</th>\n      <th>10</th>\n      <th>...</th>\n      <th>321</th>\n      <th>322</th>\n      <th>323</th>\n      <th>324</th>\n      <th>325</th>\n      <th>326</th>\n      <th>327</th>\n      <th>328</th>\n      <th>329</th>\n      <th>330</th>\n    </tr>\n  </thead>\n  <tbody>\n    <tr>\n      <th>0</th>\n      <td>14</td>\n      <td>14</td>\n      <td>16</td>\n      <td>15</td>\n      <td>25</td>\n      <td>12</td>\n      <td>13</td>\n      <td>13</td>\n      <td>8</td>\n      <td>15</td>\n      <td>...</td>\n      <td>15</td>\n      <td>8</td>\n      <td>13</td>\n      <td>13</td>\n      <td>12</td>\n      <td>25</td>\n      <td>15</td>\n      <td>16</td>\n      <td>14</td>\n      <td>14</td>\n    </tr>\n  </tbody>\n</table>\n<p>1 rows × 330 columns</p>\n</div>"
     },
     "metadata": {},
     "execution_count": 5
    }
   ],
   "source": [
    "def get_coinc(df_shifted):\n",
    "    # returns a dataframe where the i-th column contains the index of coincidence after a shift of i\n",
    "    df_coinc = pd.DataFrame()\n",
    "    for i in range(1, len(df_shifted)):\n",
    "        df_coinc[i] = [np.sum(df_shifted.iloc[0] == df_shifted.iloc[i])]\n",
    "    return df_coinc\n",
    "get_coinc(df_shifted)"
   ]
  },
  {
   "cell_type": "code",
   "execution_count": 29,
   "metadata": {},
   "outputs": [
    {
     "output_type": "execute_result",
     "data": {
      "text/plain": [
       "   1\n",
       "0  e"
      ],
      "text/html": "<div>\n<style scoped>\n    .dataframe tbody tr th:only-of-type {\n        vertical-align: middle;\n    }\n\n    .dataframe tbody tr th {\n        vertical-align: top;\n    }\n\n    .dataframe thead th {\n        text-align: right;\n    }\n</style>\n<table border=\"1\" class=\"dataframe\">\n  <thead>\n    <tr style=\"text-align: right;\">\n      <th></th>\n      <th>1</th>\n    </tr>\n  </thead>\n  <tbody>\n    <tr>\n      <th>0</th>\n      <td>e</td>\n    </tr>\n  </tbody>\n</table>\n</div>"
     },
     "metadata": {},
     "execution_count": 29
    }
   ],
   "source": []
  },
  {
   "cell_type": "code",
   "execution_count": null,
   "metadata": {},
   "outputs": [],
   "source": []
  }
 ]
}