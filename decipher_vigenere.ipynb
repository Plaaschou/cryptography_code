{
 "metadata": {
  "language_info": {
   "codemirror_mode": {
    "name": "ipython",
    "version": 3
   },
   "file_extension": ".py",
   "mimetype": "text/x-python",
   "name": "python",
   "nbconvert_exporter": "python",
   "pygments_lexer": "ipython3",
   "version": "3.9.2-final"
  },
  "orig_nbformat": 2,
  "kernelspec": {
   "name": "python39264bit841e06e8a6864e31b951e404464cc14a",
   "display_name": "Python 3.9.2 64-bit",
   "language": "python"
  }
 },
 "nbformat": 4,
 "nbformat_minor": 2,
 "cells": [
  {
   "cell_type": "code",
   "execution_count": 1,
   "metadata": {},
   "outputs": [],
   "source": [
    "import pandas as pd\n",
    "import numpy as np\n",
    "import plotly.graph_objects as go\n",
    "from plotly.subplots import make_subplots"
   ]
  },
  {
   "cell_type": "code",
   "execution_count": 2,
   "metadata": {},
   "outputs": [
    {
     "output_type": "execute_result",
     "data": {
      "text/plain": [
       "   A  B   C  D   E   F   G   H   I   J  ...   Q   R   S  T   U   V   W  X  Y  \\\n",
       "0  8  5  12  4  15  10  27  16  13  14  ...  14  17  24  8  12  22  22  5  8   \n",
       "\n",
       "   Z  \n",
       "0  5  \n",
       "\n",
       "[1 rows x 26 columns]"
      ],
      "text/html": "<div>\n<style scoped>\n    .dataframe tbody tr th:only-of-type {\n        vertical-align: middle;\n    }\n\n    .dataframe tbody tr th {\n        vertical-align: top;\n    }\n\n    .dataframe thead th {\n        text-align: right;\n    }\n</style>\n<table border=\"1\" class=\"dataframe\">\n  <thead>\n    <tr style=\"text-align: right;\">\n      <th></th>\n      <th>A</th>\n      <th>B</th>\n      <th>C</th>\n      <th>D</th>\n      <th>E</th>\n      <th>F</th>\n      <th>G</th>\n      <th>H</th>\n      <th>I</th>\n      <th>J</th>\n      <th>...</th>\n      <th>Q</th>\n      <th>R</th>\n      <th>S</th>\n      <th>T</th>\n      <th>U</th>\n      <th>V</th>\n      <th>W</th>\n      <th>X</th>\n      <th>Y</th>\n      <th>Z</th>\n    </tr>\n  </thead>\n  <tbody>\n    <tr>\n      <th>0</th>\n      <td>8</td>\n      <td>5</td>\n      <td>12</td>\n      <td>4</td>\n      <td>15</td>\n      <td>10</td>\n      <td>27</td>\n      <td>16</td>\n      <td>13</td>\n      <td>14</td>\n      <td>...</td>\n      <td>14</td>\n      <td>17</td>\n      <td>24</td>\n      <td>8</td>\n      <td>12</td>\n      <td>22</td>\n      <td>22</td>\n      <td>5</td>\n      <td>8</td>\n      <td>5</td>\n    </tr>\n  </tbody>\n</table>\n<p>1 rows × 26 columns</p>\n</div>"
     },
     "metadata": {},
     "execution_count": 2
    }
   ],
   "source": [
    "# encrypted key\n",
    "c = np.array(list(\"\"\"VVHQWVVRHMUSGJGTHKIHTSSEJCHLSFCBGVWCRLRYQTFSVGAHWKCUHWAUGLQHNSLRLJSHBLTSPISPRDXLJSVEEGHLQWKASSKUWEPWQTWVSPGOELKCQYFNSVWLJSNIQKGNRGYBWLWGOVIOKHKAZKQKXZGYHCECMEIUJOQKWFWVEFQHKIJRCLRLKBIENQFRJLJSDHGRHLSFQTWLAUQRHWDMWLGUSGIKKFLRYVCWVSPGPMLKASSJVOQXEGGVEYGGZMLJCXXLJSVPAIVWIKVRDRYGFRJLJSLVEGGVEYGGEIAPUUISFPBTGNWWMUCZRVTWGLRWUGUMNCZVILE\"\"\"))\n",
    "alphabet = \"ABCDEFGHIJKLMNOPQRSTUVWXYZ\"\n",
    "\n",
    "def create_df_freq(c):\n",
    "    # returns the frequency of each letter in the crypted message\n",
    "    unique, count = np.unique(c, return_counts=True)\n",
    "    counts = dict(zip(unique, count))\n",
    "    for k in counts.keys():\n",
    "        counts[k] = [counts[k]]\n",
    "    return pd.DataFrame(data=counts)\n",
    "\n",
    "create_df_freq(c)"
   ]
  },
  {
   "cell_type": "code",
   "execution_count": 3,
   "metadata": {},
   "outputs": [],
   "source": [
    "def shift(c):\n",
    "    # returns a dataframe where the i-th line is shifted by i\n",
    "    df_shifted = pd.DataFrame(data=c).T\n",
    "    for shift in range(1, len(c)):\n",
    "        shifted_c = np.append(c[shift:], c[:shift])\n",
    "        df_append = pd.DataFrame(data=shifted_c).T\n",
    "        df_shifted = df_shifted.append(df_append, ignore_index=True)\n",
    "    return df_shifted\n",
    "df_shifted = shift(c)"
   ]
  },
  {
   "cell_type": "code",
   "execution_count": 4,
   "metadata": {},
   "outputs": [
    {
     "output_type": "execute_result",
     "data": {
      "text/plain": [
       "    0   1   2   3   4   5   6   7   8   9    ... 321 322 323 324 325 326 327  \\\n",
       "0     V   V   H   Q   W   V   V   R   H   M  ...   G   U   M   N   C   Z   V   \n",
       "1     V   H   Q   W   V   V   R   H   M   U  ...   U   M   N   C   Z   V   I   \n",
       "2     H   Q   W   V   V   R   H   M   U   S  ...   M   N   C   Z   V   I   L   \n",
       "3     Q   W   V   V   R   H   M   U   S   G  ...   N   C   Z   V   I   L   E   \n",
       "4     W   V   V   R   H   M   U   S   G   J  ...   C   Z   V   I   L   E   V   \n",
       "..   ..  ..  ..  ..  ..  ..  ..  ..  ..  ..  ...  ..  ..  ..  ..  ..  ..  ..   \n",
       "326   Z   V   I   L   E   V   V   H   Q   W  ...   G   L   R   W   U   G   U   \n",
       "327   V   I   L   E   V   V   H   Q   W   V  ...   L   R   W   U   G   U   M   \n",
       "328   I   L   E   V   V   H   Q   W   V   V  ...   R   W   U   G   U   M   N   \n",
       "329   L   E   V   V   H   Q   W   V   V   R  ...   W   U   G   U   M   N   C   \n",
       "330   E   V   V   H   Q   W   V   V   R   H  ...   U   G   U   M   N   C   Z   \n",
       "\n",
       "    328 329 330  \n",
       "0     I   L   E  \n",
       "1     L   E   V  \n",
       "2     E   V   V  \n",
       "3     V   V   H  \n",
       "4     V   H   Q  \n",
       "..   ..  ..  ..  \n",
       "326   M   N   C  \n",
       "327   N   C   Z  \n",
       "328   C   Z   V  \n",
       "329   Z   V   I  \n",
       "330   V   I   L  \n",
       "\n",
       "[331 rows x 331 columns]"
      ],
      "text/html": "<div>\n<style scoped>\n    .dataframe tbody tr th:only-of-type {\n        vertical-align: middle;\n    }\n\n    .dataframe tbody tr th {\n        vertical-align: top;\n    }\n\n    .dataframe thead th {\n        text-align: right;\n    }\n</style>\n<table border=\"1\" class=\"dataframe\">\n  <thead>\n    <tr style=\"text-align: right;\">\n      <th></th>\n      <th>0</th>\n      <th>1</th>\n      <th>2</th>\n      <th>3</th>\n      <th>4</th>\n      <th>5</th>\n      <th>6</th>\n      <th>7</th>\n      <th>8</th>\n      <th>9</th>\n      <th>...</th>\n      <th>321</th>\n      <th>322</th>\n      <th>323</th>\n      <th>324</th>\n      <th>325</th>\n      <th>326</th>\n      <th>327</th>\n      <th>328</th>\n      <th>329</th>\n      <th>330</th>\n    </tr>\n  </thead>\n  <tbody>\n    <tr>\n      <th>0</th>\n      <td>V</td>\n      <td>V</td>\n      <td>H</td>\n      <td>Q</td>\n      <td>W</td>\n      <td>V</td>\n      <td>V</td>\n      <td>R</td>\n      <td>H</td>\n      <td>M</td>\n      <td>...</td>\n      <td>G</td>\n      <td>U</td>\n      <td>M</td>\n      <td>N</td>\n      <td>C</td>\n      <td>Z</td>\n      <td>V</td>\n      <td>I</td>\n      <td>L</td>\n      <td>E</td>\n    </tr>\n    <tr>\n      <th>1</th>\n      <td>V</td>\n      <td>H</td>\n      <td>Q</td>\n      <td>W</td>\n      <td>V</td>\n      <td>V</td>\n      <td>R</td>\n      <td>H</td>\n      <td>M</td>\n      <td>U</td>\n      <td>...</td>\n      <td>U</td>\n      <td>M</td>\n      <td>N</td>\n      <td>C</td>\n      <td>Z</td>\n      <td>V</td>\n      <td>I</td>\n      <td>L</td>\n      <td>E</td>\n      <td>V</td>\n    </tr>\n    <tr>\n      <th>2</th>\n      <td>H</td>\n      <td>Q</td>\n      <td>W</td>\n      <td>V</td>\n      <td>V</td>\n      <td>R</td>\n      <td>H</td>\n      <td>M</td>\n      <td>U</td>\n      <td>S</td>\n      <td>...</td>\n      <td>M</td>\n      <td>N</td>\n      <td>C</td>\n      <td>Z</td>\n      <td>V</td>\n      <td>I</td>\n      <td>L</td>\n      <td>E</td>\n      <td>V</td>\n      <td>V</td>\n    </tr>\n    <tr>\n      <th>3</th>\n      <td>Q</td>\n      <td>W</td>\n      <td>V</td>\n      <td>V</td>\n      <td>R</td>\n      <td>H</td>\n      <td>M</td>\n      <td>U</td>\n      <td>S</td>\n      <td>G</td>\n      <td>...</td>\n      <td>N</td>\n      <td>C</td>\n      <td>Z</td>\n      <td>V</td>\n      <td>I</td>\n      <td>L</td>\n      <td>E</td>\n      <td>V</td>\n      <td>V</td>\n      <td>H</td>\n    </tr>\n    <tr>\n      <th>4</th>\n      <td>W</td>\n      <td>V</td>\n      <td>V</td>\n      <td>R</td>\n      <td>H</td>\n      <td>M</td>\n      <td>U</td>\n      <td>S</td>\n      <td>G</td>\n      <td>J</td>\n      <td>...</td>\n      <td>C</td>\n      <td>Z</td>\n      <td>V</td>\n      <td>I</td>\n      <td>L</td>\n      <td>E</td>\n      <td>V</td>\n      <td>V</td>\n      <td>H</td>\n      <td>Q</td>\n    </tr>\n    <tr>\n      <th>...</th>\n      <td>...</td>\n      <td>...</td>\n      <td>...</td>\n      <td>...</td>\n      <td>...</td>\n      <td>...</td>\n      <td>...</td>\n      <td>...</td>\n      <td>...</td>\n      <td>...</td>\n      <td>...</td>\n      <td>...</td>\n      <td>...</td>\n      <td>...</td>\n      <td>...</td>\n      <td>...</td>\n      <td>...</td>\n      <td>...</td>\n      <td>...</td>\n      <td>...</td>\n      <td>...</td>\n    </tr>\n    <tr>\n      <th>326</th>\n      <td>Z</td>\n      <td>V</td>\n      <td>I</td>\n      <td>L</td>\n      <td>E</td>\n      <td>V</td>\n      <td>V</td>\n      <td>H</td>\n      <td>Q</td>\n      <td>W</td>\n      <td>...</td>\n      <td>G</td>\n      <td>L</td>\n      <td>R</td>\n      <td>W</td>\n      <td>U</td>\n      <td>G</td>\n      <td>U</td>\n      <td>M</td>\n      <td>N</td>\n      <td>C</td>\n    </tr>\n    <tr>\n      <th>327</th>\n      <td>V</td>\n      <td>I</td>\n      <td>L</td>\n      <td>E</td>\n      <td>V</td>\n      <td>V</td>\n      <td>H</td>\n      <td>Q</td>\n      <td>W</td>\n      <td>V</td>\n      <td>...</td>\n      <td>L</td>\n      <td>R</td>\n      <td>W</td>\n      <td>U</td>\n      <td>G</td>\n      <td>U</td>\n      <td>M</td>\n      <td>N</td>\n      <td>C</td>\n      <td>Z</td>\n    </tr>\n    <tr>\n      <th>328</th>\n      <td>I</td>\n      <td>L</td>\n      <td>E</td>\n      <td>V</td>\n      <td>V</td>\n      <td>H</td>\n      <td>Q</td>\n      <td>W</td>\n      <td>V</td>\n      <td>V</td>\n      <td>...</td>\n      <td>R</td>\n      <td>W</td>\n      <td>U</td>\n      <td>G</td>\n      <td>U</td>\n      <td>M</td>\n      <td>N</td>\n      <td>C</td>\n      <td>Z</td>\n      <td>V</td>\n    </tr>\n    <tr>\n      <th>329</th>\n      <td>L</td>\n      <td>E</td>\n      <td>V</td>\n      <td>V</td>\n      <td>H</td>\n      <td>Q</td>\n      <td>W</td>\n      <td>V</td>\n      <td>V</td>\n      <td>R</td>\n      <td>...</td>\n      <td>W</td>\n      <td>U</td>\n      <td>G</td>\n      <td>U</td>\n      <td>M</td>\n      <td>N</td>\n      <td>C</td>\n      <td>Z</td>\n      <td>V</td>\n      <td>I</td>\n    </tr>\n    <tr>\n      <th>330</th>\n      <td>E</td>\n      <td>V</td>\n      <td>V</td>\n      <td>H</td>\n      <td>Q</td>\n      <td>W</td>\n      <td>V</td>\n      <td>V</td>\n      <td>R</td>\n      <td>H</td>\n      <td>...</td>\n      <td>U</td>\n      <td>G</td>\n      <td>U</td>\n      <td>M</td>\n      <td>N</td>\n      <td>C</td>\n      <td>Z</td>\n      <td>V</td>\n      <td>I</td>\n      <td>L</td>\n    </tr>\n  </tbody>\n</table>\n<p>331 rows × 331 columns</p>\n</div>"
     },
     "metadata": {},
     "execution_count": 4
    }
   ],
   "source": [
    "df_shifted"
   ]
  },
  {
   "cell_type": "code",
   "execution_count": 5,
   "metadata": {},
   "outputs": [
    {
     "output_type": "execute_result",
     "data": {
      "text/plain": [
       "   1    2    3    4    5    6    7    8    9    10   ...  321  322  323  324  \\\n",
       "0   14   14   16   15   25   12   13   13    8   15  ...   15    8   13   13   \n",
       "\n",
       "   325  326  327  328  329  330  \n",
       "0   12   25   15   16   14   14  \n",
       "\n",
       "[1 rows x 330 columns]"
      ],
      "text/html": "<div>\n<style scoped>\n    .dataframe tbody tr th:only-of-type {\n        vertical-align: middle;\n    }\n\n    .dataframe tbody tr th {\n        vertical-align: top;\n    }\n\n    .dataframe thead th {\n        text-align: right;\n    }\n</style>\n<table border=\"1\" class=\"dataframe\">\n  <thead>\n    <tr style=\"text-align: right;\">\n      <th></th>\n      <th>1</th>\n      <th>2</th>\n      <th>3</th>\n      <th>4</th>\n      <th>5</th>\n      <th>6</th>\n      <th>7</th>\n      <th>8</th>\n      <th>9</th>\n      <th>10</th>\n      <th>...</th>\n      <th>321</th>\n      <th>322</th>\n      <th>323</th>\n      <th>324</th>\n      <th>325</th>\n      <th>326</th>\n      <th>327</th>\n      <th>328</th>\n      <th>329</th>\n      <th>330</th>\n    </tr>\n  </thead>\n  <tbody>\n    <tr>\n      <th>0</th>\n      <td>14</td>\n      <td>14</td>\n      <td>16</td>\n      <td>15</td>\n      <td>25</td>\n      <td>12</td>\n      <td>13</td>\n      <td>13</td>\n      <td>8</td>\n      <td>15</td>\n      <td>...</td>\n      <td>15</td>\n      <td>8</td>\n      <td>13</td>\n      <td>13</td>\n      <td>12</td>\n      <td>25</td>\n      <td>15</td>\n      <td>16</td>\n      <td>14</td>\n      <td>14</td>\n    </tr>\n  </tbody>\n</table>\n<p>1 rows × 330 columns</p>\n</div>"
     },
     "metadata": {},
     "execution_count": 5
    }
   ],
   "source": [
    "def get_coinc(df_shifted):\n",
    "    # returns a dataframe where the i-th column contains the index of coincidence after a shift of i\n",
    "    df_coinc = pd.DataFrame()\n",
    "    for i in range(1, len(df_shifted)):\n",
    "        df_coinc[i] = [np.sum(df_shifted.iloc[0] == df_shifted.iloc[i])]\n",
    "    return df_coinc\n",
    "df_coinc = get_coinc(df_shifted)\n",
    "df_coinc"
   ]
  },
  {
   "cell_type": "code",
   "execution_count": 6,
   "metadata": {},
   "outputs": [
    {
     "output_type": "display_data",
     "data": {
      "application/vnd.plotly.v1+json": {
       "config": {
        "plotlyServerURL": "https://plot.ly"
       },
       "data": [
        {
         "type": "histogram",
         "x": [
          14,
          14,
          16,
          15,
          25,
          12,
          13,
          13,
          8,
          15,
          13,
          19,
          13,
          15,
          26,
          12,
          14,
          15,
          13,
          22,
          19,
          15,
          16,
          19,
          21,
          11,
          7,
          11,
          15,
          25,
          14,
          21,
          13,
          10,
          16,
          16,
          13,
          19,
          14,
          24,
          18,
          11,
          13,
          22,
          21,
          18,
          12,
          15,
          11,
          26,
          14,
          13,
          9,
          13,
          27,
          12,
          14,
          13,
          14,
          24,
          16,
          15,
          8,
          12,
          23,
          13,
          11,
          9,
          11,
          30,
          17,
          14,
          19,
          10,
          13,
          15,
          15,
          11,
          11,
          16,
          15,
          17,
          8,
          16,
          20,
          14,
          6,
          14,
          11,
          20,
          12,
          16,
          15,
          19,
          23,
          13,
          15,
          17,
          11,
          19,
          11,
          13,
          14,
          14,
          19,
          14,
          13,
          13,
          13,
          21,
          18,
          16,
          20,
          11,
          14,
          17,
          16,
          12,
          5,
          14,
          20,
          12,
          18,
          15,
          24,
          17,
          11,
          13,
          13,
          20,
          20,
          10,
          11,
          19,
          15,
          25,
          12,
          8,
          11,
          22,
          20,
          11,
          13,
          16,
          23,
          20,
          14,
          6,
          20,
          16,
          19,
          10,
          8,
          12,
          22,
          15,
          12,
          13,
          14,
          24,
          22,
          15,
          13,
          15,
          18,
          18,
          15,
          13,
          15,
          22,
          24,
          14,
          13,
          12,
          15,
          22,
          12,
          8,
          10,
          19,
          16,
          20,
          6,
          14,
          20,
          23,
          16,
          13,
          11,
          20,
          22,
          11,
          8,
          12,
          25,
          15,
          19,
          11,
          10,
          20,
          20,
          13,
          13,
          11,
          17,
          24,
          15,
          18,
          12,
          20,
          14,
          5,
          12,
          16,
          17,
          14,
          11,
          20,
          16,
          18,
          21,
          13,
          13,
          13,
          14,
          19,
          14,
          14,
          13,
          11,
          19,
          11,
          17,
          15,
          13,
          23,
          19,
          15,
          16,
          12,
          20,
          11,
          14,
          6,
          14,
          20,
          16,
          8,
          17,
          15,
          16,
          11,
          11,
          15,
          15,
          13,
          10,
          19,
          14,
          17,
          30,
          11,
          9,
          11,
          13,
          23,
          12,
          8,
          15,
          16,
          24,
          14,
          13,
          14,
          12,
          27,
          13,
          9,
          13,
          14,
          26,
          11,
          15,
          12,
          18,
          21,
          22,
          13,
          11,
          18,
          24,
          14,
          19,
          13,
          16,
          16,
          10,
          13,
          21,
          14,
          25,
          15,
          11,
          7,
          11,
          21,
          19,
          16,
          15,
          19,
          22,
          13,
          15,
          14,
          12,
          26,
          15,
          13,
          19,
          13,
          15,
          8,
          13,
          13,
          12,
          25,
          15,
          16,
          14,
          14
         ],
         "xaxis": "x",
         "yaxis": "y"
        },
        {
         "type": "bar",
         "x": [
          1,
          2,
          3,
          4,
          5,
          6,
          7,
          8,
          9,
          10,
          11,
          12,
          13,
          14,
          15,
          16,
          17,
          18,
          19,
          20,
          21,
          22,
          23,
          24,
          25,
          26,
          27,
          28,
          29,
          30,
          31,
          32,
          33,
          34,
          35,
          36,
          37,
          38,
          39,
          40,
          41,
          42,
          43,
          44,
          45,
          46,
          47,
          48,
          49,
          50,
          51,
          52,
          53,
          54,
          55,
          56,
          57,
          58,
          59,
          60,
          61,
          62,
          63,
          64,
          65,
          66,
          67,
          68,
          69,
          70,
          71,
          72,
          73,
          74,
          75,
          76,
          77,
          78,
          79,
          80,
          81,
          82,
          83,
          84,
          85,
          86,
          87,
          88,
          89,
          90,
          91,
          92,
          93,
          94,
          95,
          96,
          97,
          98,
          99,
          100,
          101,
          102,
          103,
          104,
          105,
          106,
          107,
          108,
          109,
          110,
          111,
          112,
          113,
          114,
          115,
          116,
          117,
          118,
          119,
          120,
          121,
          122,
          123,
          124,
          125,
          126,
          127,
          128,
          129,
          130,
          131,
          132,
          133,
          134,
          135,
          136,
          137,
          138,
          139,
          140,
          141,
          142,
          143,
          144,
          145,
          146,
          147,
          148,
          149,
          150,
          151,
          152,
          153,
          154,
          155,
          156,
          157,
          158,
          159,
          160,
          161,
          162,
          163,
          164,
          165,
          166,
          167,
          168,
          169,
          170,
          171,
          172,
          173,
          174,
          175,
          176,
          177,
          178,
          179,
          180,
          181,
          182,
          183,
          184,
          185,
          186,
          187,
          188,
          189,
          190,
          191,
          192,
          193,
          194,
          195,
          196,
          197,
          198,
          199,
          200,
          201,
          202,
          203,
          204,
          205,
          206,
          207,
          208,
          209,
          210,
          211,
          212,
          213,
          214,
          215,
          216,
          217,
          218,
          219,
          220,
          221,
          222,
          223,
          224,
          225,
          226,
          227,
          228,
          229,
          230,
          231,
          232,
          233,
          234,
          235,
          236,
          237,
          238,
          239,
          240,
          241,
          242,
          243,
          244,
          245,
          246,
          247,
          248,
          249,
          250,
          251,
          252,
          253,
          254,
          255,
          256,
          257,
          258,
          259,
          260,
          261,
          262,
          263,
          264,
          265,
          266,
          267,
          268,
          269,
          270,
          271,
          272,
          273,
          274,
          275,
          276,
          277,
          278,
          279,
          280,
          281,
          282,
          283,
          284,
          285,
          286,
          287,
          288,
          289,
          290,
          291,
          292,
          293,
          294,
          295,
          296,
          297,
          298,
          299,
          300,
          301,
          302,
          303,
          304,
          305,
          306,
          307,
          308,
          309,
          310,
          311,
          312,
          313,
          314,
          315,
          316,
          317,
          318,
          319,
          320,
          321,
          322,
          323,
          324,
          325,
          326,
          327,
          328,
          329,
          330
         ],
         "xaxis": "x2",
         "y": [
          14,
          14,
          16,
          15,
          25,
          12,
          13,
          13,
          8,
          15,
          13,
          19,
          13,
          15,
          26,
          12,
          14,
          15,
          13,
          22,
          19,
          15,
          16,
          19,
          21,
          11,
          7,
          11,
          15,
          25,
          14,
          21,
          13,
          10,
          16,
          16,
          13,
          19,
          14,
          24,
          18,
          11,
          13,
          22,
          21,
          18,
          12,
          15,
          11,
          26,
          14,
          13,
          9,
          13,
          27,
          12,
          14,
          13,
          14,
          24,
          16,
          15,
          8,
          12,
          23,
          13,
          11,
          9,
          11,
          30,
          17,
          14,
          19,
          10,
          13,
          15,
          15,
          11,
          11,
          16,
          15,
          17,
          8,
          16,
          20,
          14,
          6,
          14,
          11,
          20,
          12,
          16,
          15,
          19,
          23,
          13,
          15,
          17,
          11,
          19,
          11,
          13,
          14,
          14,
          19,
          14,
          13,
          13,
          13,
          21,
          18,
          16,
          20,
          11,
          14,
          17,
          16,
          12,
          5,
          14,
          20,
          12,
          18,
          15,
          24,
          17,
          11,
          13,
          13,
          20,
          20,
          10,
          11,
          19,
          15,
          25,
          12,
          8,
          11,
          22,
          20,
          11,
          13,
          16,
          23,
          20,
          14,
          6,
          20,
          16,
          19,
          10,
          8,
          12,
          22,
          15,
          12,
          13,
          14,
          24,
          22,
          15,
          13,
          15,
          18,
          18,
          15,
          13,
          15,
          22,
          24,
          14,
          13,
          12,
          15,
          22,
          12,
          8,
          10,
          19,
          16,
          20,
          6,
          14,
          20,
          23,
          16,
          13,
          11,
          20,
          22,
          11,
          8,
          12,
          25,
          15,
          19,
          11,
          10,
          20,
          20,
          13,
          13,
          11,
          17,
          24,
          15,
          18,
          12,
          20,
          14,
          5,
          12,
          16,
          17,
          14,
          11,
          20,
          16,
          18,
          21,
          13,
          13,
          13,
          14,
          19,
          14,
          14,
          13,
          11,
          19,
          11,
          17,
          15,
          13,
          23,
          19,
          15,
          16,
          12,
          20,
          11,
          14,
          6,
          14,
          20,
          16,
          8,
          17,
          15,
          16,
          11,
          11,
          15,
          15,
          13,
          10,
          19,
          14,
          17,
          30,
          11,
          9,
          11,
          13,
          23,
          12,
          8,
          15,
          16,
          24,
          14,
          13,
          14,
          12,
          27,
          13,
          9,
          13,
          14,
          26,
          11,
          15,
          12,
          18,
          21,
          22,
          13,
          11,
          18,
          24,
          14,
          19,
          13,
          16,
          16,
          10,
          13,
          21,
          14,
          25,
          15,
          11,
          7,
          11,
          21,
          19,
          16,
          15,
          19,
          22,
          13,
          15,
          14,
          12,
          26,
          15,
          13,
          19,
          13,
          15,
          8,
          13,
          13,
          12,
          25,
          15,
          16,
          14,
          14
         ],
         "yaxis": "y2"
        }
       ],
       "layout": {
        "annotations": [
         {
          "font": {
           "size": 16
          },
          "showarrow": false,
          "text": "Number of shifts per index of coincidence",
          "x": 0.225,
          "xanchor": "center",
          "xref": "paper",
          "y": 1,
          "yanchor": "bottom",
          "yref": "paper"
         },
         {
          "font": {
           "size": 16
          },
          "showarrow": false,
          "text": "Index of coincidence per shift",
          "x": 0.775,
          "xanchor": "center",
          "xref": "paper",
          "y": 1,
          "yanchor": "bottom",
          "yref": "paper"
         }
        ],
        "height": 400,
        "template": {
         "data": {
          "bar": [
           {
            "error_x": {
             "color": "#2a3f5f"
            },
            "error_y": {
             "color": "#2a3f5f"
            },
            "marker": {
             "line": {
              "color": "#E5ECF6",
              "width": 0.5
             }
            },
            "type": "bar"
           }
          ],
          "barpolar": [
           {
            "marker": {
             "line": {
              "color": "#E5ECF6",
              "width": 0.5
             }
            },
            "type": "barpolar"
           }
          ],
          "carpet": [
           {
            "aaxis": {
             "endlinecolor": "#2a3f5f",
             "gridcolor": "white",
             "linecolor": "white",
             "minorgridcolor": "white",
             "startlinecolor": "#2a3f5f"
            },
            "baxis": {
             "endlinecolor": "#2a3f5f",
             "gridcolor": "white",
             "linecolor": "white",
             "minorgridcolor": "white",
             "startlinecolor": "#2a3f5f"
            },
            "type": "carpet"
           }
          ],
          "choropleth": [
           {
            "colorbar": {
             "outlinewidth": 0,
             "ticks": ""
            },
            "type": "choropleth"
           }
          ],
          "contour": [
           {
            "colorbar": {
             "outlinewidth": 0,
             "ticks": ""
            },
            "colorscale": [
             [
              0,
              "#0d0887"
             ],
             [
              0.1111111111111111,
              "#46039f"
             ],
             [
              0.2222222222222222,
              "#7201a8"
             ],
             [
              0.3333333333333333,
              "#9c179e"
             ],
             [
              0.4444444444444444,
              "#bd3786"
             ],
             [
              0.5555555555555556,
              "#d8576b"
             ],
             [
              0.6666666666666666,
              "#ed7953"
             ],
             [
              0.7777777777777778,
              "#fb9f3a"
             ],
             [
              0.8888888888888888,
              "#fdca26"
             ],
             [
              1,
              "#f0f921"
             ]
            ],
            "type": "contour"
           }
          ],
          "contourcarpet": [
           {
            "colorbar": {
             "outlinewidth": 0,
             "ticks": ""
            },
            "type": "contourcarpet"
           }
          ],
          "heatmap": [
           {
            "colorbar": {
             "outlinewidth": 0,
             "ticks": ""
            },
            "colorscale": [
             [
              0,
              "#0d0887"
             ],
             [
              0.1111111111111111,
              "#46039f"
             ],
             [
              0.2222222222222222,
              "#7201a8"
             ],
             [
              0.3333333333333333,
              "#9c179e"
             ],
             [
              0.4444444444444444,
              "#bd3786"
             ],
             [
              0.5555555555555556,
              "#d8576b"
             ],
             [
              0.6666666666666666,
              "#ed7953"
             ],
             [
              0.7777777777777778,
              "#fb9f3a"
             ],
             [
              0.8888888888888888,
              "#fdca26"
             ],
             [
              1,
              "#f0f921"
             ]
            ],
            "type": "heatmap"
           }
          ],
          "heatmapgl": [
           {
            "colorbar": {
             "outlinewidth": 0,
             "ticks": ""
            },
            "colorscale": [
             [
              0,
              "#0d0887"
             ],
             [
              0.1111111111111111,
              "#46039f"
             ],
             [
              0.2222222222222222,
              "#7201a8"
             ],
             [
              0.3333333333333333,
              "#9c179e"
             ],
             [
              0.4444444444444444,
              "#bd3786"
             ],
             [
              0.5555555555555556,
              "#d8576b"
             ],
             [
              0.6666666666666666,
              "#ed7953"
             ],
             [
              0.7777777777777778,
              "#fb9f3a"
             ],
             [
              0.8888888888888888,
              "#fdca26"
             ],
             [
              1,
              "#f0f921"
             ]
            ],
            "type": "heatmapgl"
           }
          ],
          "histogram": [
           {
            "marker": {
             "colorbar": {
              "outlinewidth": 0,
              "ticks": ""
             }
            },
            "type": "histogram"
           }
          ],
          "histogram2d": [
           {
            "colorbar": {
             "outlinewidth": 0,
             "ticks": ""
            },
            "colorscale": [
             [
              0,
              "#0d0887"
             ],
             [
              0.1111111111111111,
              "#46039f"
             ],
             [
              0.2222222222222222,
              "#7201a8"
             ],
             [
              0.3333333333333333,
              "#9c179e"
             ],
             [
              0.4444444444444444,
              "#bd3786"
             ],
             [
              0.5555555555555556,
              "#d8576b"
             ],
             [
              0.6666666666666666,
              "#ed7953"
             ],
             [
              0.7777777777777778,
              "#fb9f3a"
             ],
             [
              0.8888888888888888,
              "#fdca26"
             ],
             [
              1,
              "#f0f921"
             ]
            ],
            "type": "histogram2d"
           }
          ],
          "histogram2dcontour": [
           {
            "colorbar": {
             "outlinewidth": 0,
             "ticks": ""
            },
            "colorscale": [
             [
              0,
              "#0d0887"
             ],
             [
              0.1111111111111111,
              "#46039f"
             ],
             [
              0.2222222222222222,
              "#7201a8"
             ],
             [
              0.3333333333333333,
              "#9c179e"
             ],
             [
              0.4444444444444444,
              "#bd3786"
             ],
             [
              0.5555555555555556,
              "#d8576b"
             ],
             [
              0.6666666666666666,
              "#ed7953"
             ],
             [
              0.7777777777777778,
              "#fb9f3a"
             ],
             [
              0.8888888888888888,
              "#fdca26"
             ],
             [
              1,
              "#f0f921"
             ]
            ],
            "type": "histogram2dcontour"
           }
          ],
          "mesh3d": [
           {
            "colorbar": {
             "outlinewidth": 0,
             "ticks": ""
            },
            "type": "mesh3d"
           }
          ],
          "parcoords": [
           {
            "line": {
             "colorbar": {
              "outlinewidth": 0,
              "ticks": ""
             }
            },
            "type": "parcoords"
           }
          ],
          "pie": [
           {
            "automargin": true,
            "type": "pie"
           }
          ],
          "scatter": [
           {
            "marker": {
             "colorbar": {
              "outlinewidth": 0,
              "ticks": ""
             }
            },
            "type": "scatter"
           }
          ],
          "scatter3d": [
           {
            "line": {
             "colorbar": {
              "outlinewidth": 0,
              "ticks": ""
             }
            },
            "marker": {
             "colorbar": {
              "outlinewidth": 0,
              "ticks": ""
             }
            },
            "type": "scatter3d"
           }
          ],
          "scattercarpet": [
           {
            "marker": {
             "colorbar": {
              "outlinewidth": 0,
              "ticks": ""
             }
            },
            "type": "scattercarpet"
           }
          ],
          "scattergeo": [
           {
            "marker": {
             "colorbar": {
              "outlinewidth": 0,
              "ticks": ""
             }
            },
            "type": "scattergeo"
           }
          ],
          "scattergl": [
           {
            "marker": {
             "colorbar": {
              "outlinewidth": 0,
              "ticks": ""
             }
            },
            "type": "scattergl"
           }
          ],
          "scattermapbox": [
           {
            "marker": {
             "colorbar": {
              "outlinewidth": 0,
              "ticks": ""
             }
            },
            "type": "scattermapbox"
           }
          ],
          "scatterpolar": [
           {
            "marker": {
             "colorbar": {
              "outlinewidth": 0,
              "ticks": ""
             }
            },
            "type": "scatterpolar"
           }
          ],
          "scatterpolargl": [
           {
            "marker": {
             "colorbar": {
              "outlinewidth": 0,
              "ticks": ""
             }
            },
            "type": "scatterpolargl"
           }
          ],
          "scatterternary": [
           {
            "marker": {
             "colorbar": {
              "outlinewidth": 0,
              "ticks": ""
             }
            },
            "type": "scatterternary"
           }
          ],
          "surface": [
           {
            "colorbar": {
             "outlinewidth": 0,
             "ticks": ""
            },
            "colorscale": [
             [
              0,
              "#0d0887"
             ],
             [
              0.1111111111111111,
              "#46039f"
             ],
             [
              0.2222222222222222,
              "#7201a8"
             ],
             [
              0.3333333333333333,
              "#9c179e"
             ],
             [
              0.4444444444444444,
              "#bd3786"
             ],
             [
              0.5555555555555556,
              "#d8576b"
             ],
             [
              0.6666666666666666,
              "#ed7953"
             ],
             [
              0.7777777777777778,
              "#fb9f3a"
             ],
             [
              0.8888888888888888,
              "#fdca26"
             ],
             [
              1,
              "#f0f921"
             ]
            ],
            "type": "surface"
           }
          ],
          "table": [
           {
            "cells": {
             "fill": {
              "color": "#EBF0F8"
             },
             "line": {
              "color": "white"
             }
            },
            "header": {
             "fill": {
              "color": "#C8D4E3"
             },
             "line": {
              "color": "white"
             }
            },
            "type": "table"
           }
          ]
         },
         "layout": {
          "annotationdefaults": {
           "arrowcolor": "#2a3f5f",
           "arrowhead": 0,
           "arrowwidth": 1
          },
          "autotypenumbers": "strict",
          "coloraxis": {
           "colorbar": {
            "outlinewidth": 0,
            "ticks": ""
           }
          },
          "colorscale": {
           "diverging": [
            [
             0,
             "#8e0152"
            ],
            [
             0.1,
             "#c51b7d"
            ],
            [
             0.2,
             "#de77ae"
            ],
            [
             0.3,
             "#f1b6da"
            ],
            [
             0.4,
             "#fde0ef"
            ],
            [
             0.5,
             "#f7f7f7"
            ],
            [
             0.6,
             "#e6f5d0"
            ],
            [
             0.7,
             "#b8e186"
            ],
            [
             0.8,
             "#7fbc41"
            ],
            [
             0.9,
             "#4d9221"
            ],
            [
             1,
             "#276419"
            ]
           ],
           "sequential": [
            [
             0,
             "#0d0887"
            ],
            [
             0.1111111111111111,
             "#46039f"
            ],
            [
             0.2222222222222222,
             "#7201a8"
            ],
            [
             0.3333333333333333,
             "#9c179e"
            ],
            [
             0.4444444444444444,
             "#bd3786"
            ],
            [
             0.5555555555555556,
             "#d8576b"
            ],
            [
             0.6666666666666666,
             "#ed7953"
            ],
            [
             0.7777777777777778,
             "#fb9f3a"
            ],
            [
             0.8888888888888888,
             "#fdca26"
            ],
            [
             1,
             "#f0f921"
            ]
           ],
           "sequentialminus": [
            [
             0,
             "#0d0887"
            ],
            [
             0.1111111111111111,
             "#46039f"
            ],
            [
             0.2222222222222222,
             "#7201a8"
            ],
            [
             0.3333333333333333,
             "#9c179e"
            ],
            [
             0.4444444444444444,
             "#bd3786"
            ],
            [
             0.5555555555555556,
             "#d8576b"
            ],
            [
             0.6666666666666666,
             "#ed7953"
            ],
            [
             0.7777777777777778,
             "#fb9f3a"
            ],
            [
             0.8888888888888888,
             "#fdca26"
            ],
            [
             1,
             "#f0f921"
            ]
           ]
          },
          "colorway": [
           "#636efa",
           "#EF553B",
           "#00cc96",
           "#ab63fa",
           "#FFA15A",
           "#19d3f3",
           "#FF6692",
           "#B6E880",
           "#FF97FF",
           "#FECB52"
          ],
          "font": {
           "color": "#2a3f5f"
          },
          "geo": {
           "bgcolor": "white",
           "lakecolor": "white",
           "landcolor": "#E5ECF6",
           "showlakes": true,
           "showland": true,
           "subunitcolor": "white"
          },
          "hoverlabel": {
           "align": "left"
          },
          "hovermode": "closest",
          "mapbox": {
           "style": "light"
          },
          "paper_bgcolor": "white",
          "plot_bgcolor": "#E5ECF6",
          "polar": {
           "angularaxis": {
            "gridcolor": "white",
            "linecolor": "white",
            "ticks": ""
           },
           "bgcolor": "#E5ECF6",
           "radialaxis": {
            "gridcolor": "white",
            "linecolor": "white",
            "ticks": ""
           }
          },
          "scene": {
           "xaxis": {
            "backgroundcolor": "#E5ECF6",
            "gridcolor": "white",
            "gridwidth": 2,
            "linecolor": "white",
            "showbackground": true,
            "ticks": "",
            "zerolinecolor": "white"
           },
           "yaxis": {
            "backgroundcolor": "#E5ECF6",
            "gridcolor": "white",
            "gridwidth": 2,
            "linecolor": "white",
            "showbackground": true,
            "ticks": "",
            "zerolinecolor": "white"
           },
           "zaxis": {
            "backgroundcolor": "#E5ECF6",
            "gridcolor": "white",
            "gridwidth": 2,
            "linecolor": "white",
            "showbackground": true,
            "ticks": "",
            "zerolinecolor": "white"
           }
          },
          "shapedefaults": {
           "line": {
            "color": "#2a3f5f"
           }
          },
          "ternary": {
           "aaxis": {
            "gridcolor": "white",
            "linecolor": "white",
            "ticks": ""
           },
           "baxis": {
            "gridcolor": "white",
            "linecolor": "white",
            "ticks": ""
           },
           "bgcolor": "#E5ECF6",
           "caxis": {
            "gridcolor": "white",
            "linecolor": "white",
            "ticks": ""
           }
          },
          "title": {
           "x": 0.05
          },
          "xaxis": {
           "automargin": true,
           "gridcolor": "white",
           "linecolor": "white",
           "ticks": "",
           "title": {
            "standoff": 15
           },
           "zerolinecolor": "white",
           "zerolinewidth": 2
          },
          "yaxis": {
           "automargin": true,
           "gridcolor": "white",
           "linecolor": "white",
           "ticks": "",
           "title": {
            "standoff": 15
           },
           "zerolinecolor": "white",
           "zerolinewidth": 2
          }
         }
        },
        "width": 1200,
        "xaxis": {
         "anchor": "y",
         "domain": [
          0,
          0.45
         ]
        },
        "xaxis2": {
         "anchor": "y2",
         "domain": [
          0.55,
          1
         ]
        },
        "yaxis": {
         "anchor": "x",
         "domain": [
          0,
          1
         ]
        },
        "yaxis2": {
         "anchor": "x2",
         "domain": [
          0,
          1
         ]
        }
       }
      }
     },
     "metadata": {}
    }
   ],
   "source": [
    "fig = make_subplots(rows=1, cols=2, subplot_titles=[\"Number of shifts per index of coincidence\", \"Index of coincidence per shift\"])\n",
    "\n",
    "fig.add_trace(go.Histogram(x=df_coinc.iloc[0]), row=1, col=1)\n",
    "fig.add_trace(go.Bar(x=df_coinc.columns,y=df_coinc.iloc[0]), row=1, col=2)\n",
    "\n",
    "fig.update_layout(height=400, width=1200)"
   ]
  },
  {
   "cell_type": "code",
   "execution_count": 7,
   "metadata": {},
   "outputs": [
    {
     "output_type": "execute_result",
     "data": {
      "text/plain": [
       "261    30\n",
       "70     30\n",
       "276    27\n",
       "55     27\n",
       "281    26\n",
       "50     26\n",
       "15     26\n",
       "316    26\n",
       "195    25\n",
       "30     25\n",
       "Name: 0, dtype: int64"
      ]
     },
     "metadata": {},
     "execution_count": 7
    }
   ],
   "source": [
    "# this code gets the indices of the shifts with maximum coincidence\n",
    "# (to be completed)\n",
    "argmax = np.array(np.argsort(df_coinc.iloc[0])[::-1])\n",
    "df_coinc.iloc[0][argmax[:10]+1]"
   ]
  },
  {
   "cell_type": "code",
   "execution_count": 8,
   "metadata": {},
   "outputs": [
    {
     "output_type": "execute_result",
     "data": {
      "text/plain": [
       "  freq_eng freq_fra\n",
       "A    0.082   0.0815\n",
       "B    0.015   0.0097\n",
       "C    0.028   0.0315\n",
       "D    0.043   0.0373\n",
       "E    0.127   0.1739\n",
       "F    0.022   0.0112\n",
       "G    0.020   0.0097\n",
       "H    0.061   0.0085\n",
       "I    0.070   0.0731\n",
       "J    0.002   0.0045\n",
       "K    0.008   0.0002\n",
       "L    0.040   0.0569\n",
       "M    0.024   0.0287\n",
       "N    0.067   0.0712\n",
       "O    0.075   0.0528\n",
       "P    0.019   0.0280\n",
       "Q    0.001   0.0121\n",
       "R    0.060   0.0664\n",
       "S    0.060   0.0814\n",
       "T    0.091   0.0722\n",
       "U    0.028   0.0638\n",
       "V    0.010   0.0164\n",
       "W    0.023   0.0003\n",
       "X    0.001   0.0041\n",
       "Y    0.020   0.0028\n",
       "Z    0.001   0.0015"
      ],
      "text/html": "<div>\n<style scoped>\n    .dataframe tbody tr th:only-of-type {\n        vertical-align: middle;\n    }\n\n    .dataframe tbody tr th {\n        vertical-align: top;\n    }\n\n    .dataframe thead th {\n        text-align: right;\n    }\n</style>\n<table border=\"1\" class=\"dataframe\">\n  <thead>\n    <tr style=\"text-align: right;\">\n      <th></th>\n      <th>freq_eng</th>\n      <th>freq_fra</th>\n    </tr>\n  </thead>\n  <tbody>\n    <tr>\n      <th>A</th>\n      <td>0.082</td>\n      <td>0.0815</td>\n    </tr>\n    <tr>\n      <th>B</th>\n      <td>0.015</td>\n      <td>0.0097</td>\n    </tr>\n    <tr>\n      <th>C</th>\n      <td>0.028</td>\n      <td>0.0315</td>\n    </tr>\n    <tr>\n      <th>D</th>\n      <td>0.043</td>\n      <td>0.0373</td>\n    </tr>\n    <tr>\n      <th>E</th>\n      <td>0.127</td>\n      <td>0.1739</td>\n    </tr>\n    <tr>\n      <th>F</th>\n      <td>0.022</td>\n      <td>0.0112</td>\n    </tr>\n    <tr>\n      <th>G</th>\n      <td>0.020</td>\n      <td>0.0097</td>\n    </tr>\n    <tr>\n      <th>H</th>\n      <td>0.061</td>\n      <td>0.0085</td>\n    </tr>\n    <tr>\n      <th>I</th>\n      <td>0.070</td>\n      <td>0.0731</td>\n    </tr>\n    <tr>\n      <th>J</th>\n      <td>0.002</td>\n      <td>0.0045</td>\n    </tr>\n    <tr>\n      <th>K</th>\n      <td>0.008</td>\n      <td>0.0002</td>\n    </tr>\n    <tr>\n      <th>L</th>\n      <td>0.040</td>\n      <td>0.0569</td>\n    </tr>\n    <tr>\n      <th>M</th>\n      <td>0.024</td>\n      <td>0.0287</td>\n    </tr>\n    <tr>\n      <th>N</th>\n      <td>0.067</td>\n      <td>0.0712</td>\n    </tr>\n    <tr>\n      <th>O</th>\n      <td>0.075</td>\n      <td>0.0528</td>\n    </tr>\n    <tr>\n      <th>P</th>\n      <td>0.019</td>\n      <td>0.0280</td>\n    </tr>\n    <tr>\n      <th>Q</th>\n      <td>0.001</td>\n      <td>0.0121</td>\n    </tr>\n    <tr>\n      <th>R</th>\n      <td>0.060</td>\n      <td>0.0664</td>\n    </tr>\n    <tr>\n      <th>S</th>\n      <td>0.060</td>\n      <td>0.0814</td>\n    </tr>\n    <tr>\n      <th>T</th>\n      <td>0.091</td>\n      <td>0.0722</td>\n    </tr>\n    <tr>\n      <th>U</th>\n      <td>0.028</td>\n      <td>0.0638</td>\n    </tr>\n    <tr>\n      <th>V</th>\n      <td>0.010</td>\n      <td>0.0164</td>\n    </tr>\n    <tr>\n      <th>W</th>\n      <td>0.023</td>\n      <td>0.0003</td>\n    </tr>\n    <tr>\n      <th>X</th>\n      <td>0.001</td>\n      <td>0.0041</td>\n    </tr>\n    <tr>\n      <th>Y</th>\n      <td>0.020</td>\n      <td>0.0028</td>\n    </tr>\n    <tr>\n      <th>Z</th>\n      <td>0.001</td>\n      <td>0.0015</td>\n    </tr>\n  </tbody>\n</table>\n</div>"
     },
     "metadata": {},
     "execution_count": 8
    }
   ],
   "source": [
    "def create_df_freq_letter():\n",
    "    freq_eng = ['0.082', '0.015', '0.028', '0.043', '0.127', '0.022', '0.020', '0.061', '0.070', '0.002', '0.008', '0.040', '0.024', '0.067', '0.075', '0.019', '0.001', '0.060', '0.060', '0.091', '0.028', '0.010', '0.023', '0.001', '0.020', '0.001']\n",
    "    freq_fra = ['0.0815', '0.0097', '0.0315', '0.0373', '0.1739', '0.0112', '0.0097', '0.0085', '0.0731', '0.0045', '0.0002', '0.0569', '0.0287', '0.0712', '0.0528', '0.0280', '0.0121', '0.0664', '0.0814', '0.0722', '0.0638', '0.0164', '0.0003', '0.0041', '0.0028', '0.0015']\n",
    "    dict_freq_letter = {\"freq_eng\" : freq_eng, \"freq_fra\" : freq_fra}\n",
    "    df_freq_letter = pd.DataFrame(data=dict_freq_letter, index=list(alphabet))\n",
    "    return df_freq_letter\n",
    "create_df_freq_letter()"
   ]
  }
 ]
}